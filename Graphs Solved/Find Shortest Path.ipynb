{
 "cells": [
  {
   "cell_type": "markdown",
   "metadata": {},
   "source": [
    "# Find Shortest Path \n",
    "\n",
    "Using https://www.geeksforgeeks.org/building-an-undirected-graph-and-finding-shortest-path-using-dictionaries-in-python/"
   ]
  },
  {
   "cell_type": "code",
   "execution_count": 11,
   "metadata": {},
   "outputs": [
    {
     "name": "stdout",
     "output_type": "stream",
     "text": [
      "Shortest Path -  ['A', 'C', 'F']\n",
      "None\n"
     ]
    }
   ],
   "source": [
    "graph = {\n",
    "  'A' : ['B','C'],\n",
    "  'B' : ['D', 'E'],\n",
    "  'C' : ['F'],\n",
    "  'D' : [],\n",
    "  'E' : ['F'],\n",
    "  'F' : []\n",
    "}\n",
    "\n",
    "def shortest_path(graph, start, end):\n",
    "    explored = []\n",
    "    queue = [[start]]\n",
    "    \n",
    "    if start == end:\n",
    "        print(\"Start is End\")\n",
    "        return\n",
    "    \n",
    "    while queue:\n",
    "        path = queue.pop()\n",
    "        node = path[-1]\n",
    "        \n",
    "        if node not in explored:\n",
    "            for neighbour in graph[node]:\n",
    "                new_path = list(path)\n",
    "                new_path.append(neighbour)\n",
    "                queue.append(new_path)\n",
    "                \n",
    "                if neighbour == end:\n",
    "                    print(\"Shortest Path - \", new_path)\n",
    "                    return\n",
    "            explored.append(node)\n",
    "    \n",
    "    print(\"No Path Available\")\n",
    "    return\n",
    "\n",
    "print(shortest_path(graph, \"A\", \"F\"))"
   ]
  },
  {
   "cell_type": "code",
   "execution_count": null,
   "metadata": {},
   "outputs": [],
   "source": []
  }
 ],
 "metadata": {
  "kernelspec": {
   "display_name": "Python 3",
   "language": "python",
   "name": "python3"
  },
  "language_info": {
   "codemirror_mode": {
    "name": "ipython",
    "version": 3
   },
   "file_extension": ".py",
   "mimetype": "text/x-python",
   "name": "python",
   "nbconvert_exporter": "python",
   "pygments_lexer": "ipython3",
   "version": "3.8.4"
  }
 },
 "nbformat": 4,
 "nbformat_minor": 4
}
